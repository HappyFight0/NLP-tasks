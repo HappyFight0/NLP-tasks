{
 "cells": [
  {
   "cell_type": "markdown",
   "id": "3f793f4c",
   "metadata": {},
   "source": [
    "# Shallow Chuking using regexp Parser to extract Noun Phrases in a paragraph"
   ]
  },
  {
   "cell_type": "code",
   "execution_count": 5,
   "id": "ce7d08c6",
   "metadata": {},
   "outputs": [],
   "source": [
    "# pip install nltk"
   ]
  },
  {
   "cell_type": "code",
   "execution_count": 23,
   "id": "2d1596d8",
   "metadata": {},
   "outputs": [
    {
     "name": "stdout",
     "output_type": "stream",
     "text": [
      "[('the', 'DT'), ('little', 'JJ'), ('cat', 'NN'), ('sat', 'VBD'), ('on', 'IN'), ('the', 'DT'), ('mat', 'NN')]\n"
     ]
    }
   ],
   "source": [
    "import nltk\n",
    "sentence = [(\"the\",\"DT\"), (\"little\", \"JJ\"), (\"cat\", \"NN\"), (\"sat\", \"VBD\"), (\"on\",\"IN\"),(\"the\",\"DT\"), (\"mat\",\"NN\")]\n",
    "print(sentence)\n",
    "grammar = \"NP:{<DT>?<JJ>*<NN>}\""
   ]
  },
  {
   "cell_type": "code",
   "execution_count": 7,
   "id": "ce71fc59",
   "metadata": {},
   "outputs": [],
   "source": [
    "cp=nltk.RegexpParser(grammar)"
   ]
  },
  {
   "cell_type": "code",
   "execution_count": 8,
   "id": "ce2e288f",
   "metadata": {},
   "outputs": [],
   "source": [
    "result = cp.parse(sentence)"
   ]
  },
  {
   "cell_type": "code",
   "execution_count": 9,
   "id": "337e7b49",
   "metadata": {},
   "outputs": [
    {
     "name": "stdout",
     "output_type": "stream",
     "text": [
      "(S (NP the/DT little/JJ cat/NN) sat/VBD on/IN (NP the/DT mat/NN))\n"
     ]
    }
   ],
   "source": [
    "print(result)"
   ]
  },
  {
   "cell_type": "code",
   "execution_count": 10,
   "id": "dab6122e",
   "metadata": {},
   "outputs": [],
   "source": [
    "# result.draw() "
   ]
  },
  {
   "attachments": {
    "image.png": {
     "image/png": "[encoded data removed]"
    }
   },
   "cell_type": "markdown",
   "id": "1df3fc0a",
   "metadata": {},
   "source": [
    "![image.png](attachment:image.png)"
   ]
  },
  {
   "cell_type": "markdown",
   "id": "4c0a8b9c",
   "metadata": {},
   "source": [
    "# Tokenize a sentence, then pos tagging each sentence and then using regexp parser "
   ]
  },
  {
   "cell_type": "code",
   "execution_count": 11,
   "id": "c701bf43",
   "metadata": {},
   "outputs": [],
   "source": [
    "from nltk import pos_tag\n",
    "text =\"learn php from guru99 and make study easy\".split()\n"
   ]
  },
  {
   "cell_type": "code",
   "execution_count": 12,
   "id": "ba18a7ca",
   "metadata": {},
   "outputs": [
    {
     "data": {
      "text/plain": [
       "['The',\n",
       " 'question',\n",
       " 'answering',\n",
       " 'system',\n",
       " 'is',\n",
       " 'frequently',\n",
       " 'applied',\n",
       " 'in',\n",
       " 'the',\n",
       " 'area',\n",
       " 'of',\n",
       " 'natural',\n",
       " 'language',\n",
       " 'processing',\n",
       " '(',\n",
       " 'NLP',\n",
       " ')',\n",
       " 'because',\n",
       " 'of',\n",
       " 'the',\n",
       " 'wide',\n",
       " 'variety',\n",
       " 'of',\n",
       " 'applications',\n",
       " '.',\n",
       " 'It',\n",
       " 'consists',\n",
       " 'of',\n",
       " 'answering',\n",
       " 'questions',\n",
       " 'using',\n",
       " 'natural',\n",
       " 'language',\n",
       " '.',\n",
       " 'The',\n",
       " 'problem',\n",
       " 'is',\n",
       " ',',\n",
       " 'in',\n",
       " 'general',\n",
       " ',',\n",
       " 'solved',\n",
       " 'by',\n",
       " 'employing',\n",
       " 'a',\n",
       " 'dataset',\n",
       " 'that',\n",
       " 'consists',\n",
       " 'of',\n",
       " 'an',\n",
       " 'input',\n",
       " 'text',\n",
       " ',',\n",
       " 'a',\n",
       " 'query',\n",
       " ',',\n",
       " 'and',\n",
       " 'the',\n",
       " 'text',\n",
       " 'segment',\n",
       " 'or',\n",
       " 'span',\n",
       " 'from',\n",
       " 'the',\n",
       " 'input',\n",
       " 'text',\n",
       " 'that',\n",
       " 'provides',\n",
       " 'the',\n",
       " 'question',\n",
       " '’',\n",
       " 's',\n",
       " 'answer',\n",
       " '.',\n",
       " 'The',\n",
       " 'ability',\n",
       " 'to',\n",
       " 'make',\n",
       " 'human-level',\n",
       " 'predictions',\n",
       " 'from',\n",
       " 'data',\n",
       " 'has',\n",
       " 'improved',\n",
       " 'significantly',\n",
       " 'thanks',\n",
       " 'to',\n",
       " 'deep',\n",
       " 'learning',\n",
       " 'models',\n",
       " ',',\n",
       " 'particularly',\n",
       " 'the',\n",
       " 'Transformer',\n",
       " 'architecture',\n",
       " ',',\n",
       " 'which',\n",
       " 'has',\n",
       " 'been',\n",
       " 'state-of-the-art',\n",
       " 'in',\n",
       " 'text-based',\n",
       " 'models',\n",
       " 'in',\n",
       " 'recent',\n",
       " 'years',\n",
       " '.',\n",
       " 'This',\n",
       " 'paper',\n",
       " 'reviews',\n",
       " 'studies',\n",
       " 'related',\n",
       " 'to',\n",
       " 'the',\n",
       " 'use',\n",
       " 'of',\n",
       " 'transformer',\n",
       " 'models',\n",
       " 'in',\n",
       " 'the',\n",
       " 'implementation',\n",
       " 'of',\n",
       " 'question-answering',\n",
       " '(',\n",
       " 'QA',\n",
       " ')',\n",
       " 'systems',\n",
       " '.',\n",
       " 'The',\n",
       " 'paper',\n",
       " '’',\n",
       " 's',\n",
       " 'first',\n",
       " 'focus',\n",
       " 'is',\n",
       " 'on',\n",
       " 'the',\n",
       " 'attention',\n",
       " 'and',\n",
       " 'transformer',\n",
       " 'models',\n",
       " '.',\n",
       " 'A',\n",
       " 'brief',\n",
       " 'description',\n",
       " 'of',\n",
       " 'the',\n",
       " 'architectures',\n",
       " 'is',\n",
       " 'presented',\n",
       " 'by',\n",
       " 'classifying',\n",
       " 'them',\n",
       " 'into',\n",
       " 'models',\n",
       " 'based',\n",
       " 'on',\n",
       " 'encoders',\n",
       " ',',\n",
       " 'decoders',\n",
       " ',',\n",
       " 'and',\n",
       " 'on',\n",
       " 'both',\n",
       " 'Encoder-Decoder',\n",
       " '.',\n",
       " 'Following',\n",
       " 'that',\n",
       " ',',\n",
       " 'we',\n",
       " 'examine',\n",
       " 'the',\n",
       " 'most',\n",
       " 'recent',\n",
       " 'research',\n",
       " 'trends',\n",
       " 'in',\n",
       " 'textual',\n",
       " 'QA',\n",
       " 'datasets',\n",
       " 'by',\n",
       " 'highlighting',\n",
       " 'the',\n",
       " 'architecture',\n",
       " 'of',\n",
       " 'QA',\n",
       " 'systems',\n",
       " 'and',\n",
       " 'categorizing',\n",
       " 'them',\n",
       " 'according',\n",
       " 'to',\n",
       " 'various',\n",
       " 'criteria',\n",
       " '.',\n",
       " 'We',\n",
       " 'survey',\n",
       " 'also',\n",
       " 'a',\n",
       " 'significant',\n",
       " 'set',\n",
       " 'of',\n",
       " 'evaluation',\n",
       " 'metrics',\n",
       " 'that',\n",
       " 'have',\n",
       " 'been',\n",
       " 'developed',\n",
       " 'in',\n",
       " 'order',\n",
       " 'to',\n",
       " 'evaluate',\n",
       " 'the',\n",
       " 'models',\n",
       " '’',\n",
       " 'performance',\n",
       " '.',\n",
       " 'Finally',\n",
       " ',',\n",
       " 'we',\n",
       " 'highlight',\n",
       " 'solutions',\n",
       " 'built',\n",
       " 'to',\n",
       " 'simplify',\n",
       " 'the',\n",
       " 'implementation',\n",
       " 'of',\n",
       " 'Transformer',\n",
       " 'models',\n",
       " '.']"
      ]
     },
     "execution_count": 12,
     "metadata": {},
     "output_type": "execute_result"
    }
   ],
   "source": [
    "from nltk.tokenize import word_tokenize\n",
    "data = \"The question answering system is frequently applied in the area of natural language processing (NLP) because of the wide variety of applications. It consists of answering questions using natural language. The problem is, in general, solved by employing a dataset that consists of an input text, a query, and the text segment or span from the input text that provides the question’s answer. The ability to make human-level predictions from data has improved significantly thanks to deep learning models, particularly the Transformer architecture, which has been state-of-the-art in text-based models in recent years. This paper reviews studies related to the use of transformer models in the implementation of question-answering (QA) systems. The paper’s first focus is on the attention and transformer models. A brief description of the architectures is presented by classifying them into models based on encoders, decoders, and on both Encoder-Decoder. Following that, we examine the most recent research trends in textual QA datasets by highlighting the architecture of QA systems and categorizing them according to various criteria. We survey also a significant set of evaluation metrics that have been developed in order to evaluate the models’ performance. Finally, we highlight solutions built to simplify the implementation of Transformer models.\"\n",
    "tokens = word_tokenize(data)\n",
    "tokens"
   ]
  },
  {
   "cell_type": "code",
   "execution_count": 13,
   "id": "d023e57f",
   "metadata": {},
   "outputs": [
    {
     "data": {
      "text/plain": [
       "[('The', 'DT'),\n",
       " ('question', 'NN'),\n",
       " ('answering', 'VBG'),\n",
       " ('system', 'NN'),\n",
       " ('is', 'VBZ'),\n",
       " ('frequently', 'RB'),\n",
       " ('applied', 'VBN'),\n",
       " ('in', 'IN'),\n",
       " ('the', 'DT'),\n",
       " ('area', 'NN'),\n",
       " ('of', 'IN'),\n",
       " ('natural', 'JJ'),\n",
       " ('language', 'NN'),\n",
       " ('processing', 'NN'),\n",
       " ('(', '('),\n",
       " ('NLP', 'NNP'),\n",
       " (')', ')'),\n",
       " ('because', 'IN'),\n",
       " ('of', 'IN'),\n",
       " ('the', 'DT'),\n",
       " ('wide', 'JJ'),\n",
       " ('variety', 'NN'),\n",
       " ('of', 'IN'),\n",
       " ('applications', 'NNS'),\n",
       " ('.', '.'),\n",
       " ('It', 'PRP'),\n",
       " ('consists', 'VBZ'),\n",
       " ('of', 'IN'),\n",
       " ('answering', 'VBG'),\n",
       " ('questions', 'NNS'),\n",
       " ('using', 'VBG'),\n",
       " ('natural', 'JJ'),\n",
       " ('language', 'NN'),\n",
       " ('.', '.'),\n",
       " ('The', 'DT'),\n",
       " ('problem', 'NN'),\n",
       " ('is', 'VBZ'),\n",
       " (',', ','),\n",
       " ('in', 'IN'),\n",
       " ('general', 'JJ'),\n",
       " (',', ','),\n",
       " ('solved', 'VBN'),\n",
       " ('by', 'IN'),\n",
       " ('employing', 'VBG'),\n",
       " ('a', 'DT'),\n",
       " ('dataset', 'NN'),\n",
       " ('that', 'WDT'),\n",
       " ('consists', 'VBZ'),\n",
       " ('of', 'IN'),\n",
       " ('an', 'DT'),\n",
       " ('input', 'NN'),\n",
       " ('text', 'NN'),\n",
       " (',', ','),\n",
       " ('a', 'DT'),\n",
       " ('query', 'NN'),\n",
       " (',', ','),\n",
       " ('and', 'CC'),\n",
       " ('the', 'DT'),\n",
       " ('text', 'NN'),\n",
       " ('segment', 'NN'),\n",
       " ('or', 'CC'),\n",
       " ('span', 'NN'),\n",
       " ('from', 'IN'),\n",
       " ('the', 'DT'),\n",
       " ('input', 'NN'),\n",
       " ('text', 'NN'),\n",
       " ('that', 'WDT'),\n",
       " ('provides', 'VBZ'),\n",
       " ('the', 'DT'),\n",
       " ('question', 'NN'),\n",
       " ('’', 'NNP'),\n",
       " ('s', 'NN'),\n",
       " ('answer', 'NN'),\n",
       " ('.', '.'),\n",
       " ('The', 'DT'),\n",
       " ('ability', 'NN'),\n",
       " ('to', 'TO'),\n",
       " ('make', 'VB'),\n",
       " ('human-level', 'JJ'),\n",
       " ('predictions', 'NNS'),\n",
       " ('from', 'IN'),\n",
       " ('data', 'NN'),\n",
       " ('has', 'VBZ'),\n",
       " ('improved', 'VBN'),\n",
       " ('significantly', 'RB'),\n",
       " ('thanks', 'NNS'),\n",
       " ('to', 'TO'),\n",
       " ('deep', 'VB'),\n",
       " ('learning', 'NN'),\n",
       " ('models', 'NNS'),\n",
       " (',', ','),\n",
       " ('particularly', 'RB'),\n",
       " ('the', 'DT'),\n",
       " ('Transformer', 'NNP'),\n",
       " ('architecture', 'NN'),\n",
       " (',', ','),\n",
       " ('which', 'WDT'),\n",
       " ('has', 'VBZ'),\n",
       " ('been', 'VBN'),\n",
       " ('state-of-the-art', 'JJ'),\n",
       " ('in', 'IN'),\n",
       " ('text-based', 'JJ'),\n",
       " ('models', 'NNS'),\n",
       " ('in', 'IN'),\n",
       " ('recent', 'JJ'),\n",
       " ('years', 'NNS'),\n",
       " ('.', '.'),\n",
       " ('This', 'DT'),\n",
       " ('paper', 'NN'),\n",
       " ('reviews', 'VBZ'),\n",
       " ('studies', 'NNS'),\n",
       " ('related', 'VBN'),\n",
       " ('to', 'TO'),\n",
       " ('the', 'DT'),\n",
       " ('use', 'NN'),\n",
       " ('of', 'IN'),\n",
       " ('transformer', 'NN'),\n",
       " ('models', 'NNS'),\n",
       " ('in', 'IN'),\n",
       " ('the', 'DT'),\n",
       " ('implementation', 'NN'),\n",
       " ('of', 'IN'),\n",
       " ('question-answering', 'NN'),\n",
       " ('(', '('),\n",
       " ('QA', 'NNP'),\n",
       " (')', ')'),\n",
       " ('systems', 'NNS'),\n",
       " ('.', '.'),\n",
       " ('The', 'DT'),\n",
       " ('paper', 'NN'),\n",
       " ('’', 'NNP'),\n",
       " ('s', 'VBD'),\n",
       " ('first', 'JJ'),\n",
       " ('focus', 'NN'),\n",
       " ('is', 'VBZ'),\n",
       " ('on', 'IN'),\n",
       " ('the', 'DT'),\n",
       " ('attention', 'NN'),\n",
       " ('and', 'CC'),\n",
       " ('transformer', 'NN'),\n",
       " ('models', 'NNS'),\n",
       " ('.', '.'),\n",
       " ('A', 'DT'),\n",
       " ('brief', 'JJ'),\n",
       " ('description', 'NN'),\n",
       " ('of', 'IN'),\n",
       " ('the', 'DT'),\n",
       " ('architectures', 'NNS'),\n",
       " ('is', 'VBZ'),\n",
       " ('presented', 'VBN'),\n",
       " ('by', 'IN'),\n",
       " ('classifying', 'VBG'),\n",
       " ('them', 'PRP'),\n",
       " ('into', 'IN'),\n",
       " ('models', 'NNS'),\n",
       " ('based', 'VBN'),\n",
       " ('on', 'IN'),\n",
       " ('encoders', 'NNS'),\n",
       " (',', ','),\n",
       " ('decoders', 'NNS'),\n",
       " (',', ','),\n",
       " ('and', 'CC'),\n",
       " ('on', 'IN'),\n",
       " ('both', 'DT'),\n",
       " ('Encoder-Decoder', 'NNP'),\n",
       " ('.', '.'),\n",
       " ('Following', 'VBG'),\n",
       " ('that', 'IN'),\n",
       " (',', ','),\n",
       " ('we', 'PRP'),\n",
       " ('examine', 'VBP'),\n",
       " ('the', 'DT'),\n",
       " ('most', 'RBS'),\n",
       " ('recent', 'JJ'),\n",
       " ('research', 'NN'),\n",
       " ('trends', 'NNS'),\n",
       " ('in', 'IN'),\n",
       " ('textual', 'JJ'),\n",
       " ('QA', 'NNP'),\n",
       " ('datasets', 'NNS'),\n",
       " ('by', 'IN'),\n",
       " ('highlighting', 'VBG'),\n",
       " ('the', 'DT'),\n",
       " ('architecture', 'NN'),\n",
       " ('of', 'IN'),\n",
       " ('QA', 'NNP'),\n",
       " ('systems', 'NNS'),\n",
       " ('and', 'CC'),\n",
       " ('categorizing', 'VBG'),\n",
       " ('them', 'PRP'),\n",
       " ('according', 'VBG'),\n",
       " ('to', 'TO'),\n",
       " ('various', 'JJ'),\n",
       " ('criteria', 'NNS'),\n",
       " ('.', '.'),\n",
       " ('We', 'PRP'),\n",
       " ('survey', 'NN'),\n",
       " ('also', 'RB'),\n",
       " ('a', 'DT'),\n",
       " ('significant', 'JJ'),\n",
       " ('set', 'NN'),\n",
       " ('of', 'IN'),\n",
       " ('evaluation', 'NN'),\n",
       " ('metrics', 'NNS'),\n",
       " ('that', 'WDT'),\n",
       " ('have', 'VBP'),\n",
       " ('been', 'VBN'),\n",
       " ('developed', 'VBN'),\n",
       " ('in', 'IN'),\n",
       " ('order', 'NN'),\n",
       " ('to', 'TO'),\n",
       " ('evaluate', 'VB'),\n",
       " ('the', 'DT'),\n",
       " ('models', 'NNS'),\n",
       " ('’', 'VBP'),\n",
       " ('performance', 'NN'),\n",
       " ('.', '.'),\n",
       " ('Finally', 'RB'),\n",
       " (',', ','),\n",
       " ('we', 'PRP'),\n",
       " ('highlight', 'VBD'),\n",
       " ('solutions', 'NNS'),\n",
       " ('built', 'VBN'),\n",
       " ('to', 'TO'),\n",
       " ('simplify', 'VB'),\n",
       " ('the', 'DT'),\n",
       " ('implementation', 'NN'),\n",
       " ('of', 'IN'),\n",
       " ('Transformer', 'NNP'),\n",
       " ('models', 'NNS'),\n",
       " ('.', '.')]"
      ]
     },
     "execution_count": 13,
     "metadata": {},
     "output_type": "execute_result"
    }
   ],
   "source": [
    "from nltk import pos_tag\n",
    "\n",
    "tokenized = pos_tag(tokens)\n",
    "\n",
    "tokenized"
   ]
  },
  {
   "cell_type": "code",
   "execution_count": 14,
   "id": "3a75f9cf",
   "metadata": {},
   "outputs": [
    {
     "data": {
      "text/plain": [
       "{'(',\n",
       " ')',\n",
       " ',',\n",
       " '.',\n",
       " 'CC',\n",
       " 'DT',\n",
       " 'IN',\n",
       " 'JJ',\n",
       " 'NN',\n",
       " 'NNP',\n",
       " 'NNS',\n",
       " 'PRP',\n",
       " 'RB',\n",
       " 'RBS',\n",
       " 'TO',\n",
       " 'VB',\n",
       " 'VBD',\n",
       " 'VBG',\n",
       " 'VBN',\n",
       " 'VBP',\n",
       " 'VBZ',\n",
       " 'WDT'}"
      ]
     },
     "execution_count": 14,
     "metadata": {},
     "output_type": "execute_result"
    }
   ],
   "source": [
    "# Extractiong all the uniques POS tags of the sentence\n",
    "ans = set(item[1] for item in tokenized) #using set because set only stores unique elements\n",
    "ans"
   ]
  },
  {
   "cell_type": "code",
   "execution_count": 15,
   "id": "cf8682ac",
   "metadata": {},
   "outputs": [
    {
     "name": "stdout",
     "output_type": "stream",
     "text": [
      "NN: 42\n",
      "the: 18\n"
     ]
    }
   ],
   "source": [
    "d_pos = list((item[1] for item in tokenized))\n",
    "pos_dic = {x: d_pos.count(x) for x in d_pos }\n",
    "max_pos = (x for x in pos_dic if (pos_dic[x]==max(pos_dic.values())))\n",
    "print(\"{}: {}\".format(tuple(max_pos)[0], max(pos_dic.values())))\n",
    "\n",
    "d_tkn = list((item[0] for item in tokenized))\n",
    "d_tkn = list(x.lower() for x in d_tkn)\n",
    "tkn_dic = {x: d_tkn.count(x) for x in d_tkn }\n",
    "max_tkn = (x for x in tkn_dic.keys() if (tkn_dic[x]==max(tkn_dic.values())))\n",
    "print(\"{}: {}\".format(tuple(max_tkn)[0], max(tkn_dic.values())))"
   ]
  },
  {
   "cell_type": "code",
   "execution_count": 45,
   "id": "b5ee5582",
   "metadata": {},
   "outputs": [],
   "source": [
    "grammar1 = \"NP:{<DT>?<JJ>*<NN|NNS|NNP>}\"\n",
    "grammar2 = \"chunk: {<NN.?>*<VBD.?>*<JJ.?>*<CC>?}\""
   ]
  },
  {
   "cell_type": "code",
   "execution_count": 51,
   "id": "3d1ccad6",
   "metadata": {},
   "outputs": [
    {
     "name": "stderr",
     "output_type": "stream",
     "text": [
      "The Ghostscript executable isn't found.\n",
      "See http://web.mit.edu/ghostscript/www/Install.htm\n",
      "If you're using a Mac, you can try installing\n",
      "https://docs.brew.sh/Installation then `brew install ghostscript`\n"
     ]
    },
    {
     "ename": "LookupError",
     "evalue": "",
     "output_type": "error",
     "traceback": [
      "\u001b[1;31m---------------------------------------------------------------------------\u001b[0m",
      "\u001b[1;31mLookupError\u001b[0m                               Traceback (most recent call last)",
      "\u001b[1;32mD:\\Anaconda\\lib\\site-packages\\nltk\\tree.py\u001b[0m in \u001b[0;36m_repr_png_\u001b[1;34m(self)\u001b[0m\n\u001b[0;32m    813\u001b[0m                     [\n\u001b[1;32m--> 814\u001b[1;33m                         find_binary(\n\u001b[0m\u001b[0;32m    815\u001b[0m                             \u001b[1;34m\"gs\"\u001b[0m\u001b[1;33m,\u001b[0m\u001b[1;33m\u001b[0m\u001b[1;33m\u001b[0m\u001b[0m\n",
      "\u001b[1;32mD:\\Anaconda\\lib\\site-packages\\nltk\\internals.py\u001b[0m in \u001b[0;36mfind_binary\u001b[1;34m(name, path_to_bin, env_vars, searchpath, binary_names, url, verbose)\u001b[0m\n\u001b[0;32m    686\u001b[0m ):\n\u001b[1;32m--> 687\u001b[1;33m     return next(\n\u001b[0m\u001b[0;32m    688\u001b[0m         find_binary_iter(\n",
      "\u001b[1;32mD:\\Anaconda\\lib\\site-packages\\nltk\\internals.py\u001b[0m in \u001b[0;36mfind_binary_iter\u001b[1;34m(name, path_to_bin, env_vars, searchpath, binary_names, url, verbose)\u001b[0m\n\u001b[0;32m    672\u001b[0m     \"\"\"\n\u001b[1;32m--> 673\u001b[1;33m     yield from find_file_iter(\n\u001b[0m\u001b[0;32m    674\u001b[0m         \u001b[0mpath_to_bin\u001b[0m \u001b[1;32mor\u001b[0m \u001b[0mname\u001b[0m\u001b[1;33m,\u001b[0m \u001b[0menv_vars\u001b[0m\u001b[1;33m,\u001b[0m \u001b[0msearchpath\u001b[0m\u001b[1;33m,\u001b[0m \u001b[0mbinary_names\u001b[0m\u001b[1;33m,\u001b[0m \u001b[0murl\u001b[0m\u001b[1;33m,\u001b[0m \u001b[0mverbose\u001b[0m\u001b[1;33m\u001b[0m\u001b[1;33m\u001b[0m\u001b[0m\n",
      "\u001b[1;32mD:\\Anaconda\\lib\\site-packages\\nltk\\internals.py\u001b[0m in \u001b[0;36mfind_file_iter\u001b[1;34m(filename, env_vars, searchpath, file_names, url, verbose, finding_dir)\u001b[0m\n\u001b[0;32m    631\u001b[0m         \u001b[0mdiv\u001b[0m \u001b[1;33m=\u001b[0m \u001b[1;34m\"=\"\u001b[0m \u001b[1;33m*\u001b[0m \u001b[1;36m75\u001b[0m\u001b[1;33m\u001b[0m\u001b[1;33m\u001b[0m\u001b[0m\n\u001b[1;32m--> 632\u001b[1;33m         \u001b[1;32mraise\u001b[0m \u001b[0mLookupError\u001b[0m\u001b[1;33m(\u001b[0m\u001b[1;34mf\"\\n\\n{div}\\n{msg}\\n{div}\"\u001b[0m\u001b[1;33m)\u001b[0m\u001b[1;33m\u001b[0m\u001b[1;33m\u001b[0m\u001b[0m\n\u001b[0m\u001b[0;32m    633\u001b[0m \u001b[1;33m\u001b[0m\u001b[0m\n",
      "\u001b[1;31mLookupError\u001b[0m: \n\n===========================================================================\nNLTK was unable to find the gs file!\nUse software specific configuration parameters or set the PATH environment variable.\n===========================================================================",
      "\nThe above exception was the direct cause of the following exception:\n",
      "\u001b[1;31mLookupError\u001b[0m                               Traceback (most recent call last)",
      "\u001b[1;32mD:\\Anaconda\\lib\\site-packages\\IPython\\core\\formatters.py\u001b[0m in \u001b[0;36m__call__\u001b[1;34m(self, obj)\u001b[0m\n\u001b[0;32m    343\u001b[0m             \u001b[0mmethod\u001b[0m \u001b[1;33m=\u001b[0m \u001b[0mget_real_method\u001b[0m\u001b[1;33m(\u001b[0m\u001b[0mobj\u001b[0m\u001b[1;33m,\u001b[0m \u001b[0mself\u001b[0m\u001b[1;33m.\u001b[0m\u001b[0mprint_method\u001b[0m\u001b[1;33m)\u001b[0m\u001b[1;33m\u001b[0m\u001b[1;33m\u001b[0m\u001b[0m\n\u001b[0;32m    344\u001b[0m             \u001b[1;32mif\u001b[0m \u001b[0mmethod\u001b[0m \u001b[1;32mis\u001b[0m \u001b[1;32mnot\u001b[0m \u001b[1;32mNone\u001b[0m\u001b[1;33m:\u001b[0m\u001b[1;33m\u001b[0m\u001b[1;33m\u001b[0m\u001b[0m\n\u001b[1;32m--> 345\u001b[1;33m                 \u001b[1;32mreturn\u001b[0m \u001b[0mmethod\u001b[0m\u001b[1;33m(\u001b[0m\u001b[1;33m)\u001b[0m\u001b[1;33m\u001b[0m\u001b[1;33m\u001b[0m\u001b[0m\n\u001b[0m\u001b[0;32m    346\u001b[0m             \u001b[1;32mreturn\u001b[0m \u001b[1;32mNone\u001b[0m\u001b[1;33m\u001b[0m\u001b[1;33m\u001b[0m\u001b[0m\n\u001b[0;32m    347\u001b[0m         \u001b[1;32melse\u001b[0m\u001b[1;33m:\u001b[0m\u001b[1;33m\u001b[0m\u001b[1;33m\u001b[0m\u001b[0m\n",
      "\u001b[1;32mD:\\Anaconda\\lib\\site-packages\\nltk\\tree.py\u001b[0m in \u001b[0;36m_repr_png_\u001b[1;34m(self)\u001b[0m\n\u001b[0;32m    831\u001b[0m                 )\n\u001b[0;32m    832\u001b[0m                 \u001b[0mprint\u001b[0m\u001b[1;33m(\u001b[0m\u001b[0mpre_error_message\u001b[0m\u001b[1;33m,\u001b[0m \u001b[0mfile\u001b[0m\u001b[1;33m=\u001b[0m\u001b[0msys\u001b[0m\u001b[1;33m.\u001b[0m\u001b[0mstderr\u001b[0m\u001b[1;33m)\u001b[0m\u001b[1;33m\u001b[0m\u001b[1;33m\u001b[0m\u001b[0m\n\u001b[1;32m--> 833\u001b[1;33m                 \u001b[1;32mraise\u001b[0m \u001b[0mLookupError\u001b[0m \u001b[1;32mfrom\u001b[0m \u001b[0me\u001b[0m\u001b[1;33m\u001b[0m\u001b[1;33m\u001b[0m\u001b[0m\n\u001b[0m\u001b[0;32m    834\u001b[0m \u001b[1;33m\u001b[0m\u001b[0m\n\u001b[0;32m    835\u001b[0m             \u001b[1;32mwith\u001b[0m \u001b[0mopen\u001b[0m\u001b[1;33m(\u001b[0m\u001b[0mout_path\u001b[0m\u001b[1;33m,\u001b[0m \u001b[1;34m\"rb\"\u001b[0m\u001b[1;33m)\u001b[0m \u001b[1;32mas\u001b[0m \u001b[0msr\u001b[0m\u001b[1;33m:\u001b[0m\u001b[1;33m\u001b[0m\u001b[1;33m\u001b[0m\u001b[0m\n",
      "\u001b[1;31mLookupError\u001b[0m: "
     ]
    },
    {
     "data": {
      "text/plain": [
       "Tree('S', [Tree('NP', [('The', 'DT'), ('question', 'NN')]), ('answering', 'VBG'), Tree('NP', [('system', 'NN')]), ('is', 'VBZ'), ('frequently', 'RB'), ('applied', 'VBN'), ('in', 'IN'), Tree('NP', [('the', 'DT'), ('area', 'NN')]), ('of', 'IN'), Tree('NP', [('natural', 'JJ'), ('language', 'NN')]), Tree('NP', [('processing', 'NN')]), ('(', '('), Tree('NP', [('NLP', 'NNP')]), (')', ')'), ('because', 'IN'), ('of', 'IN'), Tree('NP', [('the', 'DT'), ('wide', 'JJ'), ('variety', 'NN')]), ('of', 'IN'), Tree('NP', [('applications', 'NNS')]), ('.', '.'), ('It', 'PRP'), ('consists', 'VBZ'), ('of', 'IN'), ('answering', 'VBG'), Tree('NP', [('questions', 'NNS')]), ('using', 'VBG'), Tree('NP', [('natural', 'JJ'), ('language', 'NN')]), ('.', '.'), Tree('NP', [('The', 'DT'), ('problem', 'NN')]), ('is', 'VBZ'), (',', ','), ('in', 'IN'), ('general', 'JJ'), (',', ','), ('solved', 'VBN'), ('by', 'IN'), ('employing', 'VBG'), Tree('NP', [('a', 'DT'), ('dataset', 'NN')]), ('that', 'WDT'), ('consists', 'VBZ'), ('of', 'IN'), Tree('NP', [('an', 'DT'), ('input', 'NN')]), Tree('NP', [('text', 'NN')]), (',', ','), Tree('NP', [('a', 'DT'), ('query', 'NN')]), (',', ','), ('and', 'CC'), Tree('NP', [('the', 'DT'), ('text', 'NN')]), Tree('NP', [('segment', 'NN')]), ('or', 'CC'), Tree('NP', [('span', 'NN')]), ('from', 'IN'), Tree('NP', [('the', 'DT'), ('input', 'NN')]), Tree('NP', [('text', 'NN')]), ('that', 'WDT'), ('provides', 'VBZ'), Tree('NP', [('the', 'DT'), ('question', 'NN')]), Tree('NP', [('’', 'NNP')]), Tree('NP', [('s', 'NN')]), Tree('NP', [('answer', 'NN')]), ('.', '.'), Tree('NP', [('The', 'DT'), ('ability', 'NN')]), ('to', 'TO'), ('make', 'VB'), Tree('NP', [('human-level', 'JJ'), ('predictions', 'NNS')]), ('from', 'IN'), Tree('NP', [('data', 'NN')]), ('has', 'VBZ'), ('improved', 'VBN'), ('significantly', 'RB'), Tree('NP', [('thanks', 'NNS')]), ('to', 'TO'), ('deep', 'VB'), Tree('NP', [('learning', 'NN')]), Tree('NP', [('models', 'NNS')]), (',', ','), ('particularly', 'RB'), Tree('NP', [('the', 'DT'), ('Transformer', 'NNP')]), Tree('NP', [('architecture', 'NN')]), (',', ','), ('which', 'WDT'), ('has', 'VBZ'), ('been', 'VBN'), ('state-of-the-art', 'JJ'), ('in', 'IN'), Tree('NP', [('text-based', 'JJ'), ('models', 'NNS')]), ('in', 'IN'), Tree('NP', [('recent', 'JJ'), ('years', 'NNS')]), ('.', '.'), Tree('NP', [('This', 'DT'), ('paper', 'NN')]), ('reviews', 'VBZ'), Tree('NP', [('studies', 'NNS')]), ('related', 'VBN'), ('to', 'TO'), Tree('NP', [('the', 'DT'), ('use', 'NN')]), ('of', 'IN'), Tree('NP', [('transformer', 'NN')]), Tree('NP', [('models', 'NNS')]), ('in', 'IN'), Tree('NP', [('the', 'DT'), ('implementation', 'NN')]), ('of', 'IN'), Tree('NP', [('question-answering', 'NN')]), ('(', '('), Tree('NP', [('QA', 'NNP')]), (')', ')'), Tree('NP', [('systems', 'NNS')]), ('.', '.'), Tree('NP', [('The', 'DT'), ('paper', 'NN')]), Tree('NP', [('’', 'NNP')]), ('s', 'VBD'), Tree('NP', [('first', 'JJ'), ('focus', 'NN')]), ('is', 'VBZ'), ('on', 'IN'), Tree('NP', [('the', 'DT'), ('attention', 'NN')]), ('and', 'CC'), Tree('NP', [('transformer', 'NN')]), Tree('NP', [('models', 'NNS')]), ('.', '.'), Tree('NP', [('A', 'DT'), ('brief', 'JJ'), ('description', 'NN')]), ('of', 'IN'), Tree('NP', [('the', 'DT'), ('architectures', 'NNS')]), ('is', 'VBZ'), ('presented', 'VBN'), ('by', 'IN'), ('classifying', 'VBG'), ('them', 'PRP'), ('into', 'IN'), Tree('NP', [('models', 'NNS')]), ('based', 'VBN'), ('on', 'IN'), Tree('NP', [('encoders', 'NNS')]), (',', ','), Tree('NP', [('decoders', 'NNS')]), (',', ','), ('and', 'CC'), ('on', 'IN'), Tree('NP', [('both', 'DT'), ('Encoder-Decoder', 'NNP')]), ('.', '.'), ('Following', 'VBG'), ('that', 'IN'), (',', ','), ('we', 'PRP'), ('examine', 'VBP'), ('the', 'DT'), ('most', 'RBS'), Tree('NP', [('recent', 'JJ'), ('research', 'NN')]), Tree('NP', [('trends', 'NNS')]), ('in', 'IN'), Tree('NP', [('textual', 'JJ'), ('QA', 'NNP')]), Tree('NP', [('datasets', 'NNS')]), ('by', 'IN'), ('highlighting', 'VBG'), Tree('NP', [('the', 'DT'), ('architecture', 'NN')]), ('of', 'IN'), Tree('NP', [('QA', 'NNP')]), Tree('NP', [('systems', 'NNS')]), ('and', 'CC'), ('categorizing', 'VBG'), ('them', 'PRP'), ('according', 'VBG'), ('to', 'TO'), Tree('NP', [('various', 'JJ'), ('criteria', 'NNS')]), ('.', '.'), ('We', 'PRP'), Tree('NP', [('survey', 'NN')]), ('also', 'RB'), Tree('NP', [('a', 'DT'), ('significant', 'JJ'), ('set', 'NN')]), ('of', 'IN'), Tree('NP', [('evaluation', 'NN')]), Tree('NP', [('metrics', 'NNS')]), ('that', 'WDT'), ('have', 'VBP'), ('been', 'VBN'), ('developed', 'VBN'), ('in', 'IN'), Tree('NP', [('order', 'NN')]), ('to', 'TO'), ('evaluate', 'VB'), Tree('NP', [('the', 'DT'), ('models', 'NNS')]), ('’', 'VBP'), Tree('NP', [('performance', 'NN')]), ('.', '.'), ('Finally', 'RB'), (',', ','), ('we', 'PRP'), ('highlight', 'VBD'), Tree('NP', [('solutions', 'NNS')]), ('built', 'VBN'), ('to', 'TO'), ('simplify', 'VB'), Tree('NP', [('the', 'DT'), ('implementation', 'NN')]), ('of', 'IN'), Tree('NP', [('Transformer', 'NNP')]), Tree('NP', [('models', 'NNS')]), ('.', '.')])"
      ]
     },
     "execution_count": 51,
     "metadata": {},
     "output_type": "execute_result"
    }
   ],
   "source": [
    "cp=nltk.RegexpParser(grammar1)\n",
    "result1 = cp.parse(tokenized)\n",
    "result1"
   ]
  },
  {
   "cell_type": "code",
   "execution_count": 30,
   "id": "1d1b8845",
   "metadata": {},
   "outputs": [],
   "source": [
    "result1.draw() "
   ]
  },
  {
   "attachments": {
    "image-2.png": {
     "image/png": "[encoded data removed]"
    },
    "image-3.png": {
     "image/png": "[encoded data removed]"
    },
    "image-4.png": {
     "image/png": "[encoded data removed]"
    },
    "image-5.png": {
     "image/png": "[encoded data removed]"
    },
    "image.png": {
     "image/png": "[encoded data removed]"
    }
   },
   "cell_type": "markdown",
   "id": "f82e9596",
   "metadata": {},
   "source": [
    "![image.png](attachment:image.png)\n",
    "![image-2.png](attachment:image-2.png)\n",
    "![image-3.png](attachment:image-3.png)\n",
    "![image-4.png](attachment:image-4.png)\n",
    "![image-5.png](attachment:image-5.png)"
   ]
  },
  {
   "cell_type": "code",
   "execution_count": 50,
   "id": "c2b3130a",
   "metadata": {},
   "outputs": [
    {
     "name": "stderr",
     "output_type": "stream",
     "text": [
      "The Ghostscript executable isn't found.\n",
      "See http://web.mit.edu/ghostscript/www/Install.htm\n",
      "If you're using a Mac, you can try installing\n",
      "https://docs.brew.sh/Installation then `brew install ghostscript`\n"
     ]
    },
    {
     "ename": "LookupError",
     "evalue": "",
     "output_type": "error",
     "traceback": [
      "\u001b[1;31m---------------------------------------------------------------------------\u001b[0m",
      "\u001b[1;31mLookupError\u001b[0m                               Traceback (most recent call last)",
      "\u001b[1;32mD:\\Anaconda\\lib\\site-packages\\nltk\\tree.py\u001b[0m in \u001b[0;36m_repr_png_\u001b[1;34m(self)\u001b[0m\n\u001b[0;32m    813\u001b[0m                     [\n\u001b[1;32m--> 814\u001b[1;33m                         find_binary(\n\u001b[0m\u001b[0;32m    815\u001b[0m                             \u001b[1;34m\"gs\"\u001b[0m\u001b[1;33m,\u001b[0m\u001b[1;33m\u001b[0m\u001b[1;33m\u001b[0m\u001b[0m\n",
      "\u001b[1;32mD:\\Anaconda\\lib\\site-packages\\nltk\\internals.py\u001b[0m in \u001b[0;36mfind_binary\u001b[1;34m(name, path_to_bin, env_vars, searchpath, binary_names, url, verbose)\u001b[0m\n\u001b[0;32m    686\u001b[0m ):\n\u001b[1;32m--> 687\u001b[1;33m     return next(\n\u001b[0m\u001b[0;32m    688\u001b[0m         find_binary_iter(\n",
      "\u001b[1;32mD:\\Anaconda\\lib\\site-packages\\nltk\\internals.py\u001b[0m in \u001b[0;36mfind_binary_iter\u001b[1;34m(name, path_to_bin, env_vars, searchpath, binary_names, url, verbose)\u001b[0m\n\u001b[0;32m    672\u001b[0m     \"\"\"\n\u001b[1;32m--> 673\u001b[1;33m     yield from find_file_iter(\n\u001b[0m\u001b[0;32m    674\u001b[0m         \u001b[0mpath_to_bin\u001b[0m \u001b[1;32mor\u001b[0m \u001b[0mname\u001b[0m\u001b[1;33m,\u001b[0m \u001b[0menv_vars\u001b[0m\u001b[1;33m,\u001b[0m \u001b[0msearchpath\u001b[0m\u001b[1;33m,\u001b[0m \u001b[0mbinary_names\u001b[0m\u001b[1;33m,\u001b[0m \u001b[0murl\u001b[0m\u001b[1;33m,\u001b[0m \u001b[0mverbose\u001b[0m\u001b[1;33m\u001b[0m\u001b[1;33m\u001b[0m\u001b[0m\n",
      "\u001b[1;32mD:\\Anaconda\\lib\\site-packages\\nltk\\internals.py\u001b[0m in \u001b[0;36mfind_file_iter\u001b[1;34m(filename, env_vars, searchpath, file_names, url, verbose, finding_dir)\u001b[0m\n\u001b[0;32m    631\u001b[0m         \u001b[0mdiv\u001b[0m \u001b[1;33m=\u001b[0m \u001b[1;34m\"=\"\u001b[0m \u001b[1;33m*\u001b[0m \u001b[1;36m75\u001b[0m\u001b[1;33m\u001b[0m\u001b[1;33m\u001b[0m\u001b[0m\n\u001b[1;32m--> 632\u001b[1;33m         \u001b[1;32mraise\u001b[0m \u001b[0mLookupError\u001b[0m\u001b[1;33m(\u001b[0m\u001b[1;34mf\"\\n\\n{div}\\n{msg}\\n{div}\"\u001b[0m\u001b[1;33m)\u001b[0m\u001b[1;33m\u001b[0m\u001b[1;33m\u001b[0m\u001b[0m\n\u001b[0m\u001b[0;32m    633\u001b[0m \u001b[1;33m\u001b[0m\u001b[0m\n",
      "\u001b[1;31mLookupError\u001b[0m: \n\n===========================================================================\nNLTK was unable to find the gs file!\nUse software specific configuration parameters or set the PATH environment variable.\n===========================================================================",
      "\nThe above exception was the direct cause of the following exception:\n",
      "\u001b[1;31mLookupError\u001b[0m                               Traceback (most recent call last)",
      "\u001b[1;32mD:\\Anaconda\\lib\\site-packages\\IPython\\core\\formatters.py\u001b[0m in \u001b[0;36m__call__\u001b[1;34m(self, obj)\u001b[0m\n\u001b[0;32m    343\u001b[0m             \u001b[0mmethod\u001b[0m \u001b[1;33m=\u001b[0m \u001b[0mget_real_method\u001b[0m\u001b[1;33m(\u001b[0m\u001b[0mobj\u001b[0m\u001b[1;33m,\u001b[0m \u001b[0mself\u001b[0m\u001b[1;33m.\u001b[0m\u001b[0mprint_method\u001b[0m\u001b[1;33m)\u001b[0m\u001b[1;33m\u001b[0m\u001b[1;33m\u001b[0m\u001b[0m\n\u001b[0;32m    344\u001b[0m             \u001b[1;32mif\u001b[0m \u001b[0mmethod\u001b[0m \u001b[1;32mis\u001b[0m \u001b[1;32mnot\u001b[0m \u001b[1;32mNone\u001b[0m\u001b[1;33m:\u001b[0m\u001b[1;33m\u001b[0m\u001b[1;33m\u001b[0m\u001b[0m\n\u001b[1;32m--> 345\u001b[1;33m                 \u001b[1;32mreturn\u001b[0m \u001b[0mmethod\u001b[0m\u001b[1;33m(\u001b[0m\u001b[1;33m)\u001b[0m\u001b[1;33m\u001b[0m\u001b[1;33m\u001b[0m\u001b[0m\n\u001b[0m\u001b[0;32m    346\u001b[0m             \u001b[1;32mreturn\u001b[0m \u001b[1;32mNone\u001b[0m\u001b[1;33m\u001b[0m\u001b[1;33m\u001b[0m\u001b[0m\n\u001b[0;32m    347\u001b[0m         \u001b[1;32melse\u001b[0m\u001b[1;33m:\u001b[0m\u001b[1;33m\u001b[0m\u001b[1;33m\u001b[0m\u001b[0m\n",
      "\u001b[1;32mD:\\Anaconda\\lib\\site-packages\\nltk\\tree.py\u001b[0m in \u001b[0;36m_repr_png_\u001b[1;34m(self)\u001b[0m\n\u001b[0;32m    831\u001b[0m                 )\n\u001b[0;32m    832\u001b[0m                 \u001b[0mprint\u001b[0m\u001b[1;33m(\u001b[0m\u001b[0mpre_error_message\u001b[0m\u001b[1;33m,\u001b[0m \u001b[0mfile\u001b[0m\u001b[1;33m=\u001b[0m\u001b[0msys\u001b[0m\u001b[1;33m.\u001b[0m\u001b[0mstderr\u001b[0m\u001b[1;33m)\u001b[0m\u001b[1;33m\u001b[0m\u001b[1;33m\u001b[0m\u001b[0m\n\u001b[1;32m--> 833\u001b[1;33m                 \u001b[1;32mraise\u001b[0m \u001b[0mLookupError\u001b[0m \u001b[1;32mfrom\u001b[0m \u001b[0me\u001b[0m\u001b[1;33m\u001b[0m\u001b[1;33m\u001b[0m\u001b[0m\n\u001b[0m\u001b[0;32m    834\u001b[0m \u001b[1;33m\u001b[0m\u001b[0m\n\u001b[0;32m    835\u001b[0m             \u001b[1;32mwith\u001b[0m \u001b[0mopen\u001b[0m\u001b[1;33m(\u001b[0m\u001b[0mout_path\u001b[0m\u001b[1;33m,\u001b[0m \u001b[1;34m\"rb\"\u001b[0m\u001b[1;33m)\u001b[0m \u001b[1;32mas\u001b[0m \u001b[0msr\u001b[0m\u001b[1;33m:\u001b[0m\u001b[1;33m\u001b[0m\u001b[1;33m\u001b[0m\u001b[0m\n",
      "\u001b[1;31mLookupError\u001b[0m: "
     ]
    },
    {
     "data": {
      "text/plain": [
       "Tree('S', [('The', 'DT'), Tree('chunk', [('question', 'NN')]), ('answering', 'VBG'), Tree('chunk', [('system', 'NN')]), ('is', 'VBZ'), ('frequently', 'RB'), ('applied', 'VBN'), ('in', 'IN'), ('the', 'DT'), Tree('chunk', [('area', 'NN')]), ('of', 'IN'), Tree('chunk', [('natural', 'JJ')]), Tree('chunk', [('language', 'NN'), ('processing', 'NN')]), ('(', '('), Tree('chunk', [('NLP', 'NNP')]), (')', ')'), ('because', 'IN'), ('of', 'IN'), ('the', 'DT'), Tree('chunk', [('wide', 'JJ')]), Tree('chunk', [('variety', 'NN')]), ('of', 'IN'), Tree('chunk', [('applications', 'NNS')]), ('.', '.'), ('It', 'PRP'), ('consists', 'VBZ'), ('of', 'IN'), ('answering', 'VBG'), Tree('chunk', [('questions', 'NNS')]), ('using', 'VBG'), Tree('chunk', [('natural', 'JJ')]), Tree('chunk', [('language', 'NN')]), ('.', '.'), ('The', 'DT'), Tree('chunk', [('problem', 'NN')]), ('is', 'VBZ'), (',', ','), ('in', 'IN'), Tree('chunk', [('general', 'JJ')]), (',', ','), ('solved', 'VBN'), ('by', 'IN'), ('employing', 'VBG'), ('a', 'DT'), Tree('chunk', [('dataset', 'NN')]), ('that', 'WDT'), ('consists', 'VBZ'), ('of', 'IN'), ('an', 'DT'), Tree('chunk', [('input', 'NN'), ('text', 'NN')]), (',', ','), ('a', 'DT'), Tree('chunk', [('query', 'NN')]), (',', ','), Tree('chunk', [('and', 'CC')]), ('the', 'DT'), Tree('chunk', [('text', 'NN'), ('segment', 'NN'), ('or', 'CC')]), Tree('chunk', [('span', 'NN')]), ('from', 'IN'), ('the', 'DT'), Tree('chunk', [('input', 'NN'), ('text', 'NN')]), ('that', 'WDT'), ('provides', 'VBZ'), ('the', 'DT'), Tree('chunk', [('question', 'NN'), ('’', 'NNP'), ('s', 'NN'), ('answer', 'NN')]), ('.', '.'), ('The', 'DT'), Tree('chunk', [('ability', 'NN')]), ('to', 'TO'), ('make', 'VB'), Tree('chunk', [('human-level', 'JJ')]), Tree('chunk', [('predictions', 'NNS')]), ('from', 'IN'), Tree('chunk', [('data', 'NN')]), ('has', 'VBZ'), ('improved', 'VBN'), ('significantly', 'RB'), Tree('chunk', [('thanks', 'NNS')]), ('to', 'TO'), ('deep', 'VB'), Tree('chunk', [('learning', 'NN'), ('models', 'NNS')]), (',', ','), ('particularly', 'RB'), ('the', 'DT'), Tree('chunk', [('Transformer', 'NNP'), ('architecture', 'NN')]), (',', ','), ('which', 'WDT'), ('has', 'VBZ'), ('been', 'VBN'), Tree('chunk', [('state-of-the-art', 'JJ')]), ('in', 'IN'), Tree('chunk', [('text-based', 'JJ')]), Tree('chunk', [('models', 'NNS')]), ('in', 'IN'), Tree('chunk', [('recent', 'JJ')]), Tree('chunk', [('years', 'NNS')]), ('.', '.'), ('This', 'DT'), Tree('chunk', [('paper', 'NN')]), ('reviews', 'VBZ'), Tree('chunk', [('studies', 'NNS')]), ('related', 'VBN'), ('to', 'TO'), ('the', 'DT'), Tree('chunk', [('use', 'NN')]), ('of', 'IN'), Tree('chunk', [('transformer', 'NN'), ('models', 'NNS')]), ('in', 'IN'), ('the', 'DT'), Tree('chunk', [('implementation', 'NN')]), ('of', 'IN'), Tree('chunk', [('question-answering', 'NN')]), ('(', '('), Tree('chunk', [('QA', 'NNP')]), (')', ')'), Tree('chunk', [('systems', 'NNS')]), ('.', '.'), ('The', 'DT'), Tree('chunk', [('paper', 'NN'), ('’', 'NNP'), ('s', 'VBD'), ('first', 'JJ')]), Tree('chunk', [('focus', 'NN')]), ('is', 'VBZ'), ('on', 'IN'), ('the', 'DT'), Tree('chunk', [('attention', 'NN'), ('and', 'CC')]), Tree('chunk', [('transformer', 'NN'), ('models', 'NNS')]), ('.', '.'), ('A', 'DT'), Tree('chunk', [('brief', 'JJ')]), Tree('chunk', [('description', 'NN')]), ('of', 'IN'), ('the', 'DT'), Tree('chunk', [('architectures', 'NNS')]), ('is', 'VBZ'), ('presented', 'VBN'), ('by', 'IN'), ('classifying', 'VBG'), ('them', 'PRP'), ('into', 'IN'), Tree('chunk', [('models', 'NNS')]), ('based', 'VBN'), ('on', 'IN'), Tree('chunk', [('encoders', 'NNS')]), (',', ','), Tree('chunk', [('decoders', 'NNS')]), (',', ','), Tree('chunk', [('and', 'CC')]), ('on', 'IN'), ('both', 'DT'), Tree('chunk', [('Encoder-Decoder', 'NNP')]), ('.', '.'), ('Following', 'VBG'), ('that', 'IN'), (',', ','), ('we', 'PRP'), ('examine', 'VBP'), ('the', 'DT'), ('most', 'RBS'), Tree('chunk', [('recent', 'JJ')]), Tree('chunk', [('research', 'NN'), ('trends', 'NNS')]), ('in', 'IN'), Tree('chunk', [('textual', 'JJ')]), Tree('chunk', [('QA', 'NNP'), ('datasets', 'NNS')]), ('by', 'IN'), ('highlighting', 'VBG'), ('the', 'DT'), Tree('chunk', [('architecture', 'NN')]), ('of', 'IN'), Tree('chunk', [('QA', 'NNP'), ('systems', 'NNS'), ('and', 'CC')]), ('categorizing', 'VBG'), ('them', 'PRP'), ('according', 'VBG'), ('to', 'TO'), Tree('chunk', [('various', 'JJ')]), Tree('chunk', [('criteria', 'NNS')]), ('.', '.'), ('We', 'PRP'), Tree('chunk', [('survey', 'NN')]), ('also', 'RB'), ('a', 'DT'), Tree('chunk', [('significant', 'JJ')]), Tree('chunk', [('set', 'NN')]), ('of', 'IN'), Tree('chunk', [('evaluation', 'NN'), ('metrics', 'NNS')]), ('that', 'WDT'), ('have', 'VBP'), ('been', 'VBN'), ('developed', 'VBN'), ('in', 'IN'), Tree('chunk', [('order', 'NN')]), ('to', 'TO'), ('evaluate', 'VB'), ('the', 'DT'), Tree('chunk', [('models', 'NNS')]), ('’', 'VBP'), Tree('chunk', [('performance', 'NN')]), ('.', '.'), ('Finally', 'RB'), (',', ','), ('we', 'PRP'), Tree('chunk', [('highlight', 'VBD')]), Tree('chunk', [('solutions', 'NNS')]), ('built', 'VBN'), ('to', 'TO'), ('simplify', 'VB'), ('the', 'DT'), Tree('chunk', [('implementation', 'NN')]), ('of', 'IN'), Tree('chunk', [('Transformer', 'NNP'), ('models', 'NNS')]), ('.', '.')])"
      ]
     },
     "execution_count": 50,
     "metadata": {},
     "output_type": "execute_result"
    }
   ],
   "source": [
    "cp=nltk.RegexpParser(grammar2)\n",
    "result2 = cp.parse(tokenized)\n",
    "result2"
   ]
  },
  {
   "cell_type": "code",
   "execution_count": 52,
   "id": "bb6ca07b",
   "metadata": {},
   "outputs": [],
   "source": [
    "result2.draw()"
   ]
  },
  {
   "attachments": {
    "image-2.png": {
     "image/png": "[encoded data removed]"
    },
    "image-3.png": {
     "image/png": "[encoded data removed]"
    },
    "image-4.png": {
     "image/png": "[encoded data removed]"
    },
    "image-5.png": {
     "image/png": "[encoded data removed]"
    },
    "image.png": {
     "image/png": "[encoded data removed]"
    }
   },
   "cell_type": "markdown",
   "id": "e68219cf",
   "metadata": {},
   "source": [
    "![image.png](attachment:image.png)\n",
    "![image-2.png](attachment:image-2.png)\n",
    "![image-3.png](attachment:image-3.png)\n",
    "![image-4.png](attachment:image-4.png)\n",
    "![image-5.png](attachment:image-5.png)"
   ]
  },
  {
   "cell_type": "markdown",
   "id": "2f6429dc",
   "metadata": {},
   "source": [
    "# Spacy"
   ]
  },
  {
   "cell_type": "code",
   "execution_count": 19,
   "id": "77146026",
   "metadata": {},
   "outputs": [],
   "source": [
    "import spacy\n",
    "# https://newscatcherapi.com/blog/named-entity-recognition-with-spacy"
   ]
  },
  {
   "cell_type": "code",
   "execution_count": 53,
   "id": "163bbd1f",
   "metadata": {},
   "outputs": [
    {
     "name": "stdout",
     "output_type": "stream",
     "text": [
      "Requirement already satisfied: spacy in d:\\anaconda\\lib\\site-packages (3.5.1)\n",
      "Requirement already satisfied: spacy-loggers<2.0.0,>=1.0.0 in d:\\anaconda\\lib\\site-packages (from spacy) (1.0.4)\n",
      "Requirement already satisfied: tqdm<5.0.0,>=4.38.0 in d:\\anaconda\\lib\\site-packages (from spacy) (4.62.3)\n",
      "Requirement already satisfied: langcodes<4.0.0,>=3.2.0 in d:\\anaconda\\lib\\site-packages (from spacy) (3.3.0)\n",
      "Requirement already satisfied: numpy>=1.15.0 in d:\\anaconda\\lib\\site-packages (from spacy) (1.20.3)\n",
      "Requirement already satisfied: smart-open<7.0.0,>=5.2.1 in d:\\anaconda\\lib\\site-packages (from spacy) (6.3.0)\n",
      "Requirement already satisfied: cymem<2.1.0,>=2.0.2 in d:\\anaconda\\lib\\site-packages (from spacy) (2.0.7)\n",
      "Requirement already satisfied: catalogue<2.1.0,>=2.0.6 in d:\\anaconda\\lib\\site-packages (from spacy) (2.0.8)\n",
      "Requirement already satisfied: srsly<3.0.0,>=2.4.3 in d:\\anaconda\\lib\\site-packages (from spacy) (2.4.6)\n",
      "Requirement already satisfied: spacy-legacy<3.1.0,>=3.0.11 in d:\\anaconda\\lib\\site-packages (from spacy) (3.0.12)\n",
      "Requirement already satisfied: thinc<8.2.0,>=8.1.8 in d:\\anaconda\\lib\\site-packages (from spacy) (8.1.9)\n",
      "Requirement already satisfied: preshed<3.1.0,>=3.0.2 in d:\\anaconda\\lib\\site-packages (from spacy) (3.0.8)\n",
      "Requirement already satisfied: wasabi<1.2.0,>=0.9.1 in d:\\anaconda\\lib\\site-packages (from spacy) (1.1.1)\n",
      "Requirement already satisfied: murmurhash<1.1.0,>=0.28.0 in d:\\anaconda\\lib\\site-packages (from spacy) (1.0.9)\n",
      "Requirement already satisfied: pydantic!=1.8,!=1.8.1,<1.11.0,>=1.7.4 in d:\\anaconda\\lib\\site-packages (from spacy) (1.10.7)\n",
      "Requirement already satisfied: packaging>=20.0 in d:\\anaconda\\lib\\site-packages (from spacy) (21.0)\n",
      "Requirement already satisfied: setuptools in d:\\anaconda\\lib\\site-packages (from spacy) (58.0.4)\n",
      "Requirement already satisfied: typer<0.8.0,>=0.3.0 in d:\\anaconda\\lib\\site-packages (from spacy) (0.7.0)\n",
      "Requirement already satisfied: pathy>=0.10.0 in d:\\anaconda\\lib\\site-packages (from spacy) (0.10.1)\n",
      "Requirement already satisfied: requests<3.0.0,>=2.13.0 in d:\\anaconda\\lib\\site-packages (from spacy) (2.26.0)\n",
      "Requirement already satisfied: jinja2 in d:\\anaconda\\lib\\site-packages (from spacy) (2.11.3)\n",
      "Requirement already satisfied: pyparsing>=2.0.2 in d:\\anaconda\\lib\\site-packages (from packaging>=20.0->spacy) (3.0.4)\n",
      "Requirement already satisfied: typing-extensions>=4.2.0 in d:\\anaconda\\lib\\site-packages (from pydantic!=1.8,!=1.8.1,<1.11.0,>=1.7.4->spacy) (4.5.0)\n",
      "Requirement already satisfied: certifi>=2017.4.17 in d:\\anaconda\\lib\\site-packages (from requests<3.0.0,>=2.13.0->spacy) (2021.10.8)\n",
      "Requirement already satisfied: idna<4,>=2.5 in d:\\anaconda\\lib\\site-packages (from requests<3.0.0,>=2.13.0->spacy) (3.2)\n",
      "Note: you may need to restart the kernel to use updated packages.\n",
      "Requirement already satisfied: urllib3<1.27,>=1.21.1 in d:\\anaconda\\lib\\site-packages (from requests<3.0.0,>=2.13.0->spacy) (1.26.7)\n",
      "Requirement already satisfied: charset-normalizer~=2.0.0 in d:\\anaconda\\lib\\site-packages (from requests<3.0.0,>=2.13.0->spacy) (2.0.4)\n",
      "Requirement already satisfied: blis<0.8.0,>=0.7.8 in d:\\anaconda\\lib\\site-packages (from thinc<8.2.0,>=8.1.8->spacy) (0.7.9)\n",
      "Requirement already satisfied: confection<1.0.0,>=0.0.1 in d:\\anaconda\\lib\\site-packages (from thinc<8.2.0,>=8.1.8->spacy) (0.0.4)\n",
      "Requirement already satisfied: colorama in d:\\anaconda\\lib\\site-packages (from tqdm<5.0.0,>=4.38.0->spacy) (0.4.6)\n",
      "Requirement already satisfied: click<9.0.0,>=7.1.1 in d:\\anaconda\\lib\\site-packages (from typer<0.8.0,>=0.3.0->spacy) (8.1.3)\n",
      "Requirement already satisfied: MarkupSafe>=0.23 in d:\\anaconda\\lib\\site-packages (from jinja2->spacy) (1.1.1)\n"
     ]
    }
   ],
   "source": [
    "pip install -U spacy"
   ]
  },
  {
   "cell_type": "code",
   "execution_count": 54,
   "id": "c8c8f13c",
   "metadata": {},
   "outputs": [
    {
     "name": "stdout",
     "output_type": "stream",
     "text": [
      "Requirement already satisfied: click in d:\\anaconda\\lib\\site-packages (8.1.3)\n",
      "Requirement already satisfied: colorama in d:\\anaconda\\lib\\site-packages (from click) (0.4.6)\n",
      "Note: you may need to restart the kernel to use updated packages.\n"
     ]
    }
   ],
   "source": [
    "pip install --upgrade click"
   ]
  },
  {
   "cell_type": "code",
   "execution_count": 55,
   "id": "8c90b128",
   "metadata": {},
   "outputs": [
    {
     "name": "stdout",
     "output_type": "stream",
     "text": [
      "Collecting en-core-web-sm==3.5.0\n",
      "  Downloading https://github.com/explosion/spacy-models/releases/download/en_core_web_sm-3.5.0/en_core_web_sm-3.5.0-py3-none-any.whl (12.8 MB)\n",
      "Requirement already satisfied: spacy<3.6.0,>=3.5.0 in d:\\anaconda\\lib\\site-packages (from en-core-web-sm==3.5.0) (3.5.1)\n",
      "Requirement already satisfied: wasabi<1.2.0,>=0.9.1 in d:\\anaconda\\lib\\site-packages (from spacy<3.6.0,>=3.5.0->en-core-web-sm==3.5.0) (1.1.1)\n",
      "Requirement already satisfied: pydantic!=1.8,!=1.8.1,<1.11.0,>=1.7.4 in d:\\anaconda\\lib\\site-packages (from spacy<3.6.0,>=3.5.0->en-core-web-sm==3.5.0) (1.10.7)\n",
      "Requirement already satisfied: spacy-legacy<3.1.0,>=3.0.11 in d:\\anaconda\\lib\\site-packages (from spacy<3.6.0,>=3.5.0->en-core-web-sm==3.5.0) (3.0.12)\n",
      "Requirement already satisfied: srsly<3.0.0,>=2.4.3 in d:\\anaconda\\lib\\site-packages (from spacy<3.6.0,>=3.5.0->en-core-web-sm==3.5.0) (2.4.6)\n",
      "Requirement already satisfied: catalogue<2.1.0,>=2.0.6 in d:\\anaconda\\lib\\site-packages (from spacy<3.6.0,>=3.5.0->en-core-web-sm==3.5.0) (2.0.8)\n",
      "Requirement already satisfied: pathy>=0.10.0 in d:\\anaconda\\lib\\site-packages (from spacy<3.6.0,>=3.5.0->en-core-web-sm==3.5.0) (0.10.1)\n",
      "Requirement already satisfied: spacy-loggers<2.0.0,>=1.0.0 in d:\\anaconda\\lib\\site-packages (from spacy<3.6.0,>=3.5.0->en-core-web-sm==3.5.0) (1.0.4)\n",
      "Requirement already satisfied: cymem<2.1.0,>=2.0.2 in d:\\anaconda\\lib\\site-packages (from spacy<3.6.0,>=3.5.0->en-core-web-sm==3.5.0) (2.0.7)\n",
      "Requirement already satisfied: packaging>=20.0 in d:\\anaconda\\lib\\site-packages (from spacy<3.6.0,>=3.5.0->en-core-web-sm==3.5.0) (21.0)\n",
      "Requirement already satisfied: numpy>=1.15.0 in d:\\anaconda\\lib\\site-packages (from spacy<3.6.0,>=3.5.0->en-core-web-sm==3.5.0) (1.20.3)\n",
      "Requirement already satisfied: thinc<8.2.0,>=8.1.8 in d:\\anaconda\\lib\\site-packages (from spacy<3.6.0,>=3.5.0->en-core-web-sm==3.5.0) (8.1.9)\n",
      "Requirement already satisfied: langcodes<4.0.0,>=3.2.0 in d:\\anaconda\\lib\\site-packages (from spacy<3.6.0,>=3.5.0->en-core-web-sm==3.5.0) (3.3.0)\n",
      "Requirement already satisfied: tqdm<5.0.0,>=4.38.0 in d:\\anaconda\\lib\\site-packages (from spacy<3.6.0,>=3.5.0->en-core-web-sm==3.5.0) (4.62.3)\n",
      "Requirement already satisfied: typer<0.8.0,>=0.3.0 in d:\\anaconda\\lib\\site-packages (from spacy<3.6.0,>=3.5.0->en-core-web-sm==3.5.0) (0.7.0)\n",
      "Requirement already satisfied: smart-open<7.0.0,>=5.2.1 in d:\\anaconda\\lib\\site-packages (from spacy<3.6.0,>=3.5.0->en-core-web-sm==3.5.0) (6.3.0)\n",
      "Requirement already satisfied: setuptools in d:\\anaconda\\lib\\site-packages (from spacy<3.6.0,>=3.5.0->en-core-web-sm==3.5.0) (58.0.4)\n",
      "Requirement already satisfied: murmurhash<1.1.0,>=0.28.0 in d:\\anaconda\\lib\\site-packages (from spacy<3.6.0,>=3.5.0->en-core-web-sm==3.5.0) (1.0.9)\n",
      "Requirement already satisfied: requests<3.0.0,>=2.13.0 in d:\\anaconda\\lib\\site-packages (from spacy<3.6.0,>=3.5.0->en-core-web-sm==3.5.0) (2.26.0)\n",
      "Requirement already satisfied: jinja2 in d:\\anaconda\\lib\\site-packages (from spacy<3.6.0,>=3.5.0->en-core-web-sm==3.5.0) (2.11.3)\n",
      "Requirement already satisfied: preshed<3.1.0,>=3.0.2 in d:\\anaconda\\lib\\site-packages (from spacy<3.6.0,>=3.5.0->en-core-web-sm==3.5.0) (3.0.8)\n",
      "Requirement already satisfied: pyparsing>=2.0.2 in d:\\anaconda\\lib\\site-packages (from packaging>=20.0->spacy<3.6.0,>=3.5.0->en-core-web-sm==3.5.0) (3.0.4)\n",
      "Requirement already satisfied: typing-extensions>=4.2.0 in d:\\anaconda\\lib\\site-packages (from pydantic!=1.8,!=1.8.1,<1.11.0,>=1.7.4->spacy<3.6.0,>=3.5.0->en-core-web-sm==3.5.0) (4.5.0)\n",
      "Requirement already satisfied: certifi>=2017.4.17 in d:\\anaconda\\lib\\site-packages (from requests<3.0.0,>=2.13.0->spacy<3.6.0,>=3.5.0->en-core-web-sm==3.5.0) (2021.10.8)\n",
      "Requirement already satisfied: charset-normalizer~=2.0.0 in d:\\anaconda\\lib\\site-packages (from requests<3.0.0,>=2.13.0->spacy<3.6.0,>=3.5.0->en-core-web-sm==3.5.0) (2.0.4)\n",
      "Requirement already satisfied: idna<4,>=2.5 in d:\\anaconda\\lib\\site-packages (from requests<3.0.0,>=2.13.0->spacy<3.6.0,>=3.5.0->en-core-web-sm==3.5.0) (3.2)\n",
      "Requirement already satisfied: urllib3<1.27,>=1.21.1 in d:\\anaconda\\lib\\site-packages (from requests<3.0.0,>=2.13.0->spacy<3.6.0,>=3.5.0->en-core-web-sm==3.5.0) (1.26.7)\n",
      "Requirement already satisfied: blis<0.8.0,>=0.7.8 in d:\\anaconda\\lib\\site-packages (from thinc<8.2.0,>=8.1.8->spacy<3.6.0,>=3.5.0->en-core-web-sm==3.5.0) (0.7.9)\n",
      "Requirement already satisfied: confection<1.0.0,>=0.0.1 in d:\\anaconda\\lib\\site-packages (from thinc<8.2.0,>=8.1.8->spacy<3.6.0,>=3.5.0->en-core-web-sm==3.5.0) (0.0.4)\n",
      "Requirement already satisfied: colorama in d:\\anaconda\\lib\\site-packages (from tqdm<5.0.0,>=4.38.0->spacy<3.6.0,>=3.5.0->en-core-web-sm==3.5.0) (0.4.6)\n",
      "Requirement already satisfied: click<9.0.0,>=7.1.1 in d:\\anaconda\\lib\\site-packages (from typer<0.8.0,>=0.3.0->spacy<3.6.0,>=3.5.0->en-core-web-sm==3.5.0) (8.1.3)\n",
      "Requirement already satisfied: MarkupSafe>=0.23 in d:\\anaconda\\lib\\site-packages (from jinja2->spacy<3.6.0,>=3.5.0->en-core-web-sm==3.5.0) (1.1.1)\n",
      "\u001b[38;5;2m[+] Download and installation successful\u001b[0m\n",
      "You can now load the package via spacy.load('en_core_web_sm')\n"
     ]
    }
   ],
   "source": [
    "!python -m spacy download en_core_web_sm"
   ]
  },
  {
   "cell_type": "code",
   "execution_count": 57,
   "id": "30b03338",
   "metadata": {},
   "outputs": [],
   "source": [
    "import spacy\n",
    "nlp = spacy.load(\"en_core_web_sm\")"
   ]
  },
  {
   "cell_type": "code",
   "execution_count": 58,
   "id": "7f1f8f58",
   "metadata": {},
   "outputs": [
    {
     "name": "stdout",
     "output_type": "stream",
     "text": [
      "[('Paidy Inc.', 'ORG')]\n",
      "[('Grundfos', 'ORG'), ('Mechanical Equipment Company', 'ORG')]\n",
      "[('Lauri Markkanen', 'PERSON')]\n",
      "[('Mastercard', 'ORG'), ('CipherTrace', 'ORG')]\n",
      "[('Neustar', 'GPE'), ('Newstar', 'PERSON')]\n",
      "[('Microsoft', 'ORG'), ('Myhotelshop', 'ORG')]\n",
      "[('CDK', 'ORG')]\n",
      "[('Tyber Medical', 'ORG')]\n",
      "[('Stevenson', 'PERSON'), ('Blades', 'ORG')]\n",
      "[('Google', 'ORG'), ('1.3M-SF', 'DATE'), ('Manhattan', 'GPE'), ('2.1B', 'MONEY')]\n",
      "[('PayPal', 'ORG'), ('Paidy Inc.', 'ORG'), ('Microsoft', 'ORG')]\n"
     ]
    }
   ],
   "source": [
    "headlines = [\"PayPal to acquire Paidy Inc.\",\n",
    "             \"Pump solutions and water technology company Grundfos has entered into an agreement to acquire Mechanical Equipment Company (MECO) for an undisclosed sum.\",\n",
    "             \"Cavaliers acquire Lauri Markkanen\",\n",
    "             \"Mastercard to acquire CipherTrace\",\n",
    "             \"TransUnion to acquire Neustar and Newstar\",\n",
    "             \"Microsoft enters into agreement to acquire Myhotelshop to help hotels optimize guest acquisition\",\n",
    "             \"CDK to help car buyers acquire insurance\",\n",
    "             \"Tyber Medical reaches agreement to acquire CatapultMD\",\n",
    "             \"Rebels acquire forward Stevenson from Blades\",\n",
    "             \"Google to acquire 1.3M-SF Manhattan office for $2.1B\",\n",
    "             \"PayPal decided to acquire Paidy Inc. and Microsoft\",\n",
    "             ]\n",
    "\n",
    "docs = [nlp(headline) for headline in headlines]\n",
    "\n",
    "for doc in docs:\n",
    "    print([(ent.text, ent.label_) for ent in doc.ents])"
   ]
  },
  {
   "cell_type": "markdown",
   "id": "eba420e6",
   "metadata": {},
   "source": [
    "In the above code, we have article headlines and spacy is recognising the named entities using the Spacy NER pipeline. For eg: \"Paidy Inc\" is an organization, \"Lauri Markkanen\" is a person, 2.1B is Money, etc. "
   ]
  },
  {
   "cell_type": "markdown",
   "id": "cdf61507",
   "metadata": {},
   "source": [
    "# Function to filter only the articles with two ORG entities and \"acquire\" in-between them"
   ]
  },
  {
   "cell_type": "code",
   "execution_count": 59,
   "id": "853f4e39",
   "metadata": {},
   "outputs": [],
   "source": [
    "def is_company_acquisition(headline_doc):\n",
    "    # check if the acquisition lemma (why lemma?)\n",
    "    for token in headline_doc:\n",
    "        if 'acquire' not in [token.lemma_ for token in headline_doc]:\n",
    "            return False\n",
    "        # check that at least 2 ORG entities\n",
    "        elif len([ent.label_ for ent in headline_doc.ents if ent.label_ == 'ORG']) < 2:\n",
    "            return False\n",
    "        return True\n"
   ]
  },
  {
   "cell_type": "markdown",
   "id": "2bf1dded",
   "metadata": {},
   "source": [
    "We are taking a headline and checking if the lemma: acquire is present or not and of there are at least two organizations mentioned between them"
   ]
  },
  {
   "cell_type": "markdown",
   "id": "1551df0f",
   "metadata": {},
   "source": [
    "### Limitations of this are:\n",
    "<li> can be only applied to one sentence(not on a text </li>\n",
    "<li> accuracy depends on a NER that is being used</li>\n"
   ]
  },
  {
   "cell_type": "markdown",
   "id": "582a0aab",
   "metadata": {},
   "source": [
    "## using dependency parsing with Spacy"
   ]
  },
  {
   "cell_type": "code",
   "execution_count": 62,
   "id": "01467ab6",
   "metadata": {},
   "outputs": [
    {
     "data": {
      "text/html": [
       "<span class=\"tex2jax_ignore\"><!DOCTYPE html>\n",
       "<html lang=\"en\">\n",
       "    <head>\n",
       "        <title>displaCy</title>\n",
       "    </head>\n",
       "\n",
       "    <body style=\"font-size: 16px; font-family: -apple-system, BlinkMacSystemFont, 'Segoe UI', Helvetica, Arial, sans-serif, 'Apple Color Emoji', 'Segoe UI Emoji', 'Segoe UI Symbol'; padding: 4rem 2rem; direction: ltr\">\n",
       "<figure style=\"margin-bottom: 6rem\">\n",
       "<svg xmlns=\"http://www.w3.org/2000/svg\" xmlns:xlink=\"http://www.w3.org/1999/xlink\" xml:lang=\"en\" id=\"46440e5da565463284d1dc8acbf2a692-0\" class=\"displacy\" width=\"1450\" height=\"312.0\" direction=\"ltr\" style=\"max-width: none; height: 312.0px; color: #000000; background: #ffffff; font-family: Arial; direction: ltr\">\n",
       "<text class=\"displacy-token\" fill=\"currentColor\" text-anchor=\"middle\" y=\"222.0\">\n",
       "    <tspan class=\"displacy-word\" fill=\"currentColor\" x=\"50\">PayPal</tspan>\n",
       "    <tspan class=\"displacy-tag\" dy=\"2em\" fill=\"currentColor\" x=\"50\">PROPN</tspan>\n",
       "</text>\n",
       "\n",
       "<text class=\"displacy-token\" fill=\"currentColor\" text-anchor=\"middle\" y=\"222.0\">\n",
       "    <tspan class=\"displacy-word\" fill=\"currentColor\" x=\"225\">decided</tspan>\n",
       "    <tspan class=\"displacy-tag\" dy=\"2em\" fill=\"currentColor\" x=\"225\">VERB</tspan>\n",
       "</text>\n",
       "\n",
       "<text class=\"displacy-token\" fill=\"currentColor\" text-anchor=\"middle\" y=\"222.0\">\n",
       "    <tspan class=\"displacy-word\" fill=\"currentColor\" x=\"400\">to</tspan>\n",
       "    <tspan class=\"displacy-tag\" dy=\"2em\" fill=\"currentColor\" x=\"400\">PART</tspan>\n",
       "</text>\n",
       "\n",
       "<text class=\"displacy-token\" fill=\"currentColor\" text-anchor=\"middle\" y=\"222.0\">\n",
       "    <tspan class=\"displacy-word\" fill=\"currentColor\" x=\"575\">acquire</tspan>\n",
       "    <tspan class=\"displacy-tag\" dy=\"2em\" fill=\"currentColor\" x=\"575\">VERB</tspan>\n",
       "</text>\n",
       "\n",
       "<text class=\"displacy-token\" fill=\"currentColor\" text-anchor=\"middle\" y=\"222.0\">\n",
       "    <tspan class=\"displacy-word\" fill=\"currentColor\" x=\"750\">Paidy</tspan>\n",
       "    <tspan class=\"displacy-tag\" dy=\"2em\" fill=\"currentColor\" x=\"750\">PROPN</tspan>\n",
       "</text>\n",
       "\n",
       "<text class=\"displacy-token\" fill=\"currentColor\" text-anchor=\"middle\" y=\"222.0\">\n",
       "    <tspan class=\"displacy-word\" fill=\"currentColor\" x=\"925\">Inc.</tspan>\n",
       "    <tspan class=\"displacy-tag\" dy=\"2em\" fill=\"currentColor\" x=\"925\">PROPN</tspan>\n",
       "</text>\n",
       "\n",
       "<text class=\"displacy-token\" fill=\"currentColor\" text-anchor=\"middle\" y=\"222.0\">\n",
       "    <tspan class=\"displacy-word\" fill=\"currentColor\" x=\"1100\">and</tspan>\n",
       "    <tspan class=\"displacy-tag\" dy=\"2em\" fill=\"currentColor\" x=\"1100\">CCONJ</tspan>\n",
       "</text>\n",
       "\n",
       "<text class=\"displacy-token\" fill=\"currentColor\" text-anchor=\"middle\" y=\"222.0\">\n",
       "    <tspan class=\"displacy-word\" fill=\"currentColor\" x=\"1275\">Microsoft</tspan>\n",
       "    <tspan class=\"displacy-tag\" dy=\"2em\" fill=\"currentColor\" x=\"1275\">PROPN</tspan>\n",
       "</text>\n",
       "\n",
       "<g class=\"displacy-arrow\">\n",
       "    <path class=\"displacy-arc\" id=\"arrow-46440e5da565463284d1dc8acbf2a692-0-0\" stroke-width=\"2px\" d=\"M70,177.0 C70,89.5 220.0,89.5 220.0,177.0\" fill=\"none\" stroke=\"currentColor\"/>\n",
       "    <text dy=\"1.25em\" style=\"font-size: 0.8em; letter-spacing: 1px\">\n",
       "        <textPath xlink:href=\"#arrow-46440e5da565463284d1dc8acbf2a692-0-0\" class=\"displacy-label\" startOffset=\"50%\" side=\"left\" fill=\"currentColor\" text-anchor=\"middle\">nsubj</textPath>\n",
       "    </text>\n",
       "    <path class=\"displacy-arrowhead\" d=\"M70,179.0 L62,167.0 78,167.0\" fill=\"currentColor\"/>\n",
       "</g>\n",
       "\n",
       "<g class=\"displacy-arrow\">\n",
       "    <path class=\"displacy-arc\" id=\"arrow-46440e5da565463284d1dc8acbf2a692-0-1\" stroke-width=\"2px\" d=\"M420,177.0 C420,89.5 570.0,89.5 570.0,177.0\" fill=\"none\" stroke=\"currentColor\"/>\n",
       "    <text dy=\"1.25em\" style=\"font-size: 0.8em; letter-spacing: 1px\">\n",
       "        <textPath xlink:href=\"#arrow-46440e5da565463284d1dc8acbf2a692-0-1\" class=\"displacy-label\" startOffset=\"50%\" side=\"left\" fill=\"currentColor\" text-anchor=\"middle\">aux</textPath>\n",
       "    </text>\n",
       "    <path class=\"displacy-arrowhead\" d=\"M420,179.0 L412,167.0 428,167.0\" fill=\"currentColor\"/>\n",
       "</g>\n",
       "\n",
       "<g class=\"displacy-arrow\">\n",
       "    <path class=\"displacy-arc\" id=\"arrow-46440e5da565463284d1dc8acbf2a692-0-2\" stroke-width=\"2px\" d=\"M245,177.0 C245,2.0 575.0,2.0 575.0,177.0\" fill=\"none\" stroke=\"currentColor\"/>\n",
       "    <text dy=\"1.25em\" style=\"font-size: 0.8em; letter-spacing: 1px\">\n",
       "        <textPath xlink:href=\"#arrow-46440e5da565463284d1dc8acbf2a692-0-2\" class=\"displacy-label\" startOffset=\"50%\" side=\"left\" fill=\"currentColor\" text-anchor=\"middle\">xcomp</textPath>\n",
       "    </text>\n",
       "    <path class=\"displacy-arrowhead\" d=\"M575.0,179.0 L583.0,167.0 567.0,167.0\" fill=\"currentColor\"/>\n",
       "</g>\n",
       "\n",
       "<g class=\"displacy-arrow\">\n",
       "    <path class=\"displacy-arc\" id=\"arrow-46440e5da565463284d1dc8acbf2a692-0-3\" stroke-width=\"2px\" d=\"M770,177.0 C770,89.5 920.0,89.5 920.0,177.0\" fill=\"none\" stroke=\"currentColor\"/>\n",
       "    <text dy=\"1.25em\" style=\"font-size: 0.8em; letter-spacing: 1px\">\n",
       "        <textPath xlink:href=\"#arrow-46440e5da565463284d1dc8acbf2a692-0-3\" class=\"displacy-label\" startOffset=\"50%\" side=\"left\" fill=\"currentColor\" text-anchor=\"middle\">compound</textPath>\n",
       "    </text>\n",
       "    <path class=\"displacy-arrowhead\" d=\"M770,179.0 L762,167.0 778,167.0\" fill=\"currentColor\"/>\n",
       "</g>\n",
       "\n",
       "<g class=\"displacy-arrow\">\n",
       "    <path class=\"displacy-arc\" id=\"arrow-46440e5da565463284d1dc8acbf2a692-0-4\" stroke-width=\"2px\" d=\"M595,177.0 C595,2.0 925.0,2.0 925.0,177.0\" fill=\"none\" stroke=\"currentColor\"/>\n",
       "    <text dy=\"1.25em\" style=\"font-size: 0.8em; letter-spacing: 1px\">\n",
       "        <textPath xlink:href=\"#arrow-46440e5da565463284d1dc8acbf2a692-0-4\" class=\"displacy-label\" startOffset=\"50%\" side=\"left\" fill=\"currentColor\" text-anchor=\"middle\">dobj</textPath>\n",
       "    </text>\n",
       "    <path class=\"displacy-arrowhead\" d=\"M925.0,179.0 L933.0,167.0 917.0,167.0\" fill=\"currentColor\"/>\n",
       "</g>\n",
       "\n",
       "<g class=\"displacy-arrow\">\n",
       "    <path class=\"displacy-arc\" id=\"arrow-46440e5da565463284d1dc8acbf2a692-0-5\" stroke-width=\"2px\" d=\"M945,177.0 C945,89.5 1095.0,89.5 1095.0,177.0\" fill=\"none\" stroke=\"currentColor\"/>\n",
       "    <text dy=\"1.25em\" style=\"font-size: 0.8em; letter-spacing: 1px\">\n",
       "        <textPath xlink:href=\"#arrow-46440e5da565463284d1dc8acbf2a692-0-5\" class=\"displacy-label\" startOffset=\"50%\" side=\"left\" fill=\"currentColor\" text-anchor=\"middle\">cc</textPath>\n",
       "    </text>\n",
       "    <path class=\"displacy-arrowhead\" d=\"M1095.0,179.0 L1103.0,167.0 1087.0,167.0\" fill=\"currentColor\"/>\n",
       "</g>\n",
       "\n",
       "<g class=\"displacy-arrow\">\n",
       "    <path class=\"displacy-arc\" id=\"arrow-46440e5da565463284d1dc8acbf2a692-0-6\" stroke-width=\"2px\" d=\"M945,177.0 C945,2.0 1275.0,2.0 1275.0,177.0\" fill=\"none\" stroke=\"currentColor\"/>\n",
       "    <text dy=\"1.25em\" style=\"font-size: 0.8em; letter-spacing: 1px\">\n",
       "        <textPath xlink:href=\"#arrow-46440e5da565463284d1dc8acbf2a692-0-6\" class=\"displacy-label\" startOffset=\"50%\" side=\"left\" fill=\"currentColor\" text-anchor=\"middle\">conj</textPath>\n",
       "    </text>\n",
       "    <path class=\"displacy-arrowhead\" d=\"M1275.0,179.0 L1283.0,167.0 1267.0,167.0\" fill=\"currentColor\"/>\n",
       "</g>\n",
       "</svg>\n",
       "</figure>\n",
       "</body>\n",
       "</html></span>"
      ],
      "text/plain": [
       "<IPython.core.display.HTML object>"
      ]
     },
     "metadata": {},
     "output_type": "display_data"
    },
    {
     "name": "stdout",
     "output_type": "stream",
     "text": [
      "\n",
      "Using the 'dep' visualizer\n",
      "Serving on http://0.0.0.0:5000 ...\n",
      "\n",
      "Shutting down server on port 5000.\n"
     ]
    }
   ],
   "source": [
    "doc = nlp(\"PayPal decided to acquire Paidy Inc. and Microsoft\")\n",
    "spacy.displacy.serve(doc, style= \"dep\")"
   ]
  },
  {
   "cell_type": "code",
   "execution_count": 63,
   "id": "71ea8140",
   "metadata": {},
   "outputs": [
    {
     "name": "stdout",
     "output_type": "stream",
     "text": [
      "True\n"
     ]
    }
   ],
   "source": [
    "print(is_company_acquisition(doc))"
   ]
  },
  {
   "cell_type": "markdown",
   "id": "1fda1ebd",
   "metadata": {},
   "source": [
    "# Function to detect a company(ies) to be bought \n",
    "\n",
    "#### The company that is bought should be:\n",
    "<li>of entity type ORG</li>\n",
    "<li>with \"head\" lemma being \"acquire\"</li>\n",
    "<li>independency of \"attr\" or \"dobj\"</li>\n",
    "\n",
    "#### After identifying the token, we:\n",
    "<li>take its noun chunk</li>\n",
    "<li>check for \"siblings\": other companies that can be bought as well</li>"
   ]
  },
  {
   "cell_type": "code",
   "execution_count": 83,
   "id": "db576577",
   "metadata": {},
   "outputs": [],
   "source": [
    "def find_acquired(headline_doc):\n",
    "    acquirer_list = []\n",
    "    for token in headline_doc:\n",
    "        if (token.ent_type_ == 'ORG') and (token.dep_ in ('nsubj', 'ROOT')):\n",
    "            for noun_chunk in doc.noun_chunks:\n",
    "                if token in noun_chunk:\n",
    "                    acquirer_list.append(noun_chunk) if noun_chunk not in acquirer_list else acquirer_list\n",
    "                elif len(list(token.rights)) > 0:\n",
    "                    for tright in list(token.rights):\n",
    "                        if (tright.ent_type_ == 'ORG') and (tright.dep_ in ('conj')):\n",
    "                            for noun_chunk in doc.noun_chunks:\n",
    "                                if tright in noun_chunk:\n",
    "                                    acquirer_list.append(noun_chunk) if noun_chunk not in acquirer_list else acquirer_list\n",
    "    if acquirer_list != []:\n",
    "        return acquirer_list\n",
    "\n",
    "\n"
   ]
  },
  {
   "cell_type": "markdown",
   "id": "b25e9988",
   "metadata": {},
   "source": [
    "# Function to detect an acquiring company(ies)"
   ]
  },
  {
   "cell_type": "code",
   "execution_count": 84,
   "id": "836bb6ec",
   "metadata": {},
   "outputs": [],
   "source": [
    "def find_acquirer(headline_doc):\n",
    "    acquirer_list = []\n",
    "    for token in headline_doc:\n",
    "        if (token.ent_type_ == 'ORG') and (token.dep_ in ('nsubj', 'ROOT')):\n",
    "            for noun_chunk in doc.noun_chunks:\n",
    "                if token in noun_chunk:\n",
    "                    acquirer_list.append(noun_chunk) if noun_chunk not in acquirer_list else acquirer_list\n",
    "                elif len(list(token.rights)) > 0:\n",
    "                    for tright in list(token.rights):\n",
    "                        if (tright.ent_type_ == 'ORG') and (tright.dep_ in ('conj')):\n",
    "                            for noun_chunk in doc.noun_chunks:\n",
    "                                if tright in noun_chunk:\n",
    "                                    acquirer_list.append(noun_chunk) if noun_chunk not in acquirer_list else acquirer_list\n",
    "    if acquirer_list != []:\n",
    "        return acquirer_list\n"
   ]
  },
  {
   "cell_type": "markdown",
   "id": "cf340edb",
   "metadata": {},
   "source": [
    "# Combine functions and test"
   ]
  },
  {
   "cell_type": "code",
   "execution_count": 85,
   "id": "921500d6",
   "metadata": {},
   "outputs": [],
   "source": [
    "def detect_acquisition(headline_doc):\n",
    "    if is_company_acquisition(headline_doc):\n",
    "        if all(t is not None for t in [find_acquired(headline_doc), find_acquirer(headline_doc)]):\n",
    "            print(str(headline_doc) + \" --> \" + str(find_acquirer(headline_doc)) + \" acquires \" + str(find_acquired(headline_doc)))\n",
    "    else:\n",
    "        print(str(headline_doc) + \" --> \" + \"no acquisition detected\")"
   ]
  },
  {
   "cell_type": "code",
   "execution_count": 86,
   "id": "b3e461d8",
   "metadata": {},
   "outputs": [
    {
     "name": "stdout",
     "output_type": "stream",
     "text": [
      "PayPal to acquire Paidy Inc. --> no acquisition detected\n",
      "Cavaliers acquire Lauri Markkanen --> no acquisition detected\n",
      "Mastercard to acquire CipherTrace --> [Mastercard] acquires [Mastercard]\n",
      "TransUnion to acquire Neustar and Newstar --> no acquisition detected\n",
      "Microsoft enters into agreement to acquire Myhotelshop to help hotels optimize guest acquisition --> [Microsoft] acquires [Microsoft]\n",
      "CDK to help car buyers acquire insurance --> no acquisition detected\n",
      "Tyber Medical reaches agreement to acquire CatapultMD --> no acquisition detected\n",
      "Rebels acquire forward Stevenson from Blades --> no acquisition detected\n",
      "Google to acquire 1.3M-SF Manhattan office for $2.1B --> no acquisition detected\n",
      "PayPal decided to acquire Paidy Inc. and Microsoft --> [PayPal] acquires [PayPal]\n"
     ]
    }
   ],
   "source": [
    "import time\n",
    "for headline in headlines:\n",
    "    doc = nlp(headline)\n",
    "    detect_acquisition(doc)\n",
    "    time.sleep(0.5)"
   ]
  },
  {
   "cell_type": "code",
   "execution_count": 82,
   "id": "7d9e8e6a",
   "metadata": {},
   "outputs": [
    {
     "name": "stdout",
     "output_type": "stream",
     "text": [
      "PayPal to acquire Paidy Inc. --> no acquisition detected\n",
      "Cavaliers acquire Lauri Markkanen --> no acquisition detected\n",
      "Mastercard to acquire CipherTrace --> [Mastercard] acquires [Mastercard]\n",
      "TransUnion to acquire Neustar and Newstar --> no acquisition detected\n",
      "Microsoft enters into agreement to acquire Myhotelshop to help hotels optimize guest acquisition --> [Microsoft] acquires [Microsoft]\n",
      "CDK to help car buyers acquire insurance --> no acquisition detected\n",
      "Tyber Medical reaches agreement to acquire CatapultMD --> no acquisition detected\n",
      "Rebels acquire forward Stevenson from Blades --> no acquisition detected\n",
      "Google to acquire 1.3M-SF Manhattan office for $2.1B --> no acquisition detected\n",
      "PayPal decided to acquire Paidy Inc. and Microsoft --> [PayPal] acquires [PayPal]\n"
     ]
    }
   ],
   "source": [
    "import time\n",
    "for headline in headlines:\n",
    "    doc = nlp(headline)\n",
    "    detect_acquisition(doc)\n",
    "    time.sleep(0.5)"
   ]
  },
  {
   "cell_type": "markdown",
   "id": "33b92d75",
   "metadata": {},
   "source": [
    "# IMBD"
   ]
  },
  {
   "cell_type": "code",
   "execution_count": 20,
   "id": "2d82fb2b",
   "metadata": {},
   "outputs": [],
   "source": [
    "# import pandas as pd\n",
    "# import numpy as np"
   ]
  },
  {
   "cell_type": "code",
   "execution_count": 21,
   "id": "0a08f3e0",
   "metadata": {},
   "outputs": [],
   "source": [
    "# df = pd.read_csv(\"imdb.csv\");"
   ]
  },
  {
   "cell_type": "code",
   "execution_count": 64,
   "id": "27084be4",
   "metadata": {},
   "outputs": [],
   "source": [
    "# data preparation\n",
    "# stemming the documents\n",
    "# from nltk.stem.porter import PorterStemmer\n",
    "# porter = PorterStemmer()\n",
    "\n",
    "# def stemmer(text)\n",
    "\n",
    "# 4. df.sentiment.values"
   ]
  }
 ],
 "metadata": {
  "kernelspec": {
   "display_name": "Python 3 (ipykernel)",
   "language": "python",
   "name": "python3"
  },
  "language_info": {
   "codemirror_mode": {
    "name": "ipython",
    "version": 3
   },
   "file_extension": ".py",
   "mimetype": "text/x-python",
   "name": "python",
   "nbconvert_exporter": "python",
   "pygments_lexer": "ipython3",
   "version": "3.9.7"
  }
 },
 "nbformat": 4,
 "nbformat_minor": 5
}
